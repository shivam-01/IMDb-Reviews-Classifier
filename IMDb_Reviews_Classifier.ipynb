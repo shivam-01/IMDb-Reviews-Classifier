{
  "nbformat": 4,
  "nbformat_minor": 0,
  "metadata": {
    "colab": {
      "name": "IMDb Reviews Classifier.ipynb",
      "provenance": [],
      "collapsed_sections": [],
      "authorship_tag": "ABX9TyNE3SCYoCvQAQkLY0tDnib5",
      "include_colab_link": true
    },
    "kernelspec": {
      "name": "python3",
      "display_name": "Python 3"
    },
    "accelerator": "GPU"
  },
  "cells": [
    {
      "cell_type": "markdown",
      "metadata": {
        "id": "view-in-github",
        "colab_type": "text"
      },
      "source": [
        "<a href=\"https://colab.research.google.com/github/shivam-01/IMDb-Reviews-Classifier/blob/master/IMDb_Reviews_Classifier.ipynb\" target=\"_parent\"><img src=\"https://colab.research.google.com/assets/colab-badge.svg\" alt=\"Open In Colab\"/></a>"
      ]
    },
    {
      "cell_type": "markdown",
      "metadata": {
        "id": "qQjrOkzV0Es_"
      },
      "source": [
        "#  IMDb Reviews Classification on Plain Text Data using Word Embeddings, LSTM, GRU and Conv1D"
      ]
    },
    {
      "cell_type": "code",
      "metadata": {
        "id": "kISnszCkz7YJ",
        "colab": {
          "base_uri": "https://localhost:8080/"
        },
        "outputId": "73deaf6f-b0c3-48c0-9733-4ddeef66cb5e"
      },
      "source": [
        "import numpy as np\n",
        "import matplotlib.pyplot as plt\n",
        "import tensorflow as tf\n",
        "print(tf.__version__)"
      ],
      "execution_count": null,
      "outputs": [
        {
          "output_type": "stream",
          "name": "stdout",
          "text": [
            "2.6.0\n"
          ]
        }
      ]
    },
    {
      "cell_type": "code",
      "metadata": {
        "id": "m_ycSgJW0S0z",
        "colab": {
          "base_uri": "https://localhost:8080/"
        },
        "outputId": "bd755101-cfc7-4462-d4a3-1d15be369799"
      },
      "source": [
        "# Import Tensorflow Datasets Service\n",
        "import tensorflow_datasets as tfds\n",
        "tfds.disable_progress_bar()\n",
        "imdb, info = tfds.load(\"imdb_reviews\", with_info=True, as_supervised=True)"
      ],
      "execution_count": null,
      "outputs": [
        {
          "output_type": "stream",
          "name": "stdout",
          "text": [
            "\u001b[1mDownloading and preparing dataset imdb_reviews/plain_text/1.0.0 (download: 80.23 MiB, generated: Unknown size, total: 80.23 MiB) to /root/tensorflow_datasets/imdb_reviews/plain_text/1.0.0...\u001b[0m\n",
            "Shuffling and writing examples to /root/tensorflow_datasets/imdb_reviews/plain_text/1.0.0.incompleteUDTINZ/imdb_reviews-train.tfrecord\n",
            "Shuffling and writing examples to /root/tensorflow_datasets/imdb_reviews/plain_text/1.0.0.incompleteUDTINZ/imdb_reviews-test.tfrecord\n",
            "Shuffling and writing examples to /root/tensorflow_datasets/imdb_reviews/plain_text/1.0.0.incompleteUDTINZ/imdb_reviews-unsupervised.tfrecord\n"
          ]
        },
        {
          "output_type": "stream",
          "name": "stderr",
          "text": [
            "WARNING:absl:Dataset is using deprecated text encoder API which will be removed soon. Please use the plain_text version of the dataset and migrate to `tensorflow_text`.\n"
          ]
        },
        {
          "output_type": "stream",
          "name": "stdout",
          "text": [
            "\u001b[1mDataset imdb_reviews downloaded and prepared to /root/tensorflow_datasets/imdb_reviews/plain_text/1.0.0. Subsequent calls will reuse this data.\u001b[0m\n"
          ]
        }
      ]
    },
    {
      "cell_type": "code",
      "metadata": {
        "id": "i08KQcXI0fLL"
      },
      "source": [
        "train_data, test_data = imdb['train'], imdb['test']\n",
        "\n",
        "training_sentences = []\n",
        "training_labels = []\n",
        "\n",
        "testing_sentences = []\n",
        "testing_labels = []\n",
        "\n",
        "# Splitting train and test data into sentences and labels\n",
        "for s,l in train_data:\n",
        "  training_sentences.append(s.numpy().decode('utf8'))\n",
        "  training_labels.append(l.numpy())\n",
        "  \n",
        "for s,l in test_data:\n",
        "  testing_sentences.append(s.numpy().decode('utf8'))\n",
        "  testing_labels.append(l.numpy())\n",
        "  \n",
        "training_labels_final = np.array(training_labels)\n",
        "testing_labels_final = np.array(testing_labels)"
      ],
      "execution_count": null,
      "outputs": []
    },
    {
      "cell_type": "code",
      "metadata": {
        "id": "cKmzKa_n1Fc_"
      },
      "source": [
        "# Hyperparameters\n",
        "vocab_size = 10000\n",
        "embedding_dim = 16\n",
        "max_length = 120\n",
        "trunc_type='post'\n",
        "oov_tok = \"<OOV>\"\n",
        "\n",
        "\n",
        "from tensorflow.keras.preprocessing.text import Tokenizer\n",
        "from tensorflow.keras.preprocessing.sequence import pad_sequences\n",
        "\n",
        "# Tokenize the train and test data\n",
        "tokenizer = Tokenizer(num_words = vocab_size, oov_token=oov_tok)\n",
        "tokenizer.fit_on_texts(training_sentences)\n",
        "word_index = tokenizer.word_index\n",
        "sequences = tokenizer.texts_to_sequences(training_sentences)\n",
        "padded = pad_sequences(sequences,maxlen=max_length, truncating=trunc_type)\n",
        "\n",
        "testing_sequences = tokenizer.texts_to_sequences(testing_sentences)\n",
        "testing_padded = pad_sequences(testing_sequences,maxlen=max_length)\n"
      ],
      "execution_count": null,
      "outputs": []
    },
    {
      "cell_type": "code",
      "metadata": {
        "id": "rlhtCdSf23Oi",
        "colab": {
          "base_uri": "https://localhost:8080/"
        },
        "outputId": "e5746ce5-087b-4779-d54e-6ae4b46a4ee6"
      },
      "source": [
        "# Reverse the word index dictionary\n",
        "reverse_word_index = dict([(value, key) for (key, value) in word_index.items()])\n",
        "\n",
        "def decode_review(text):\n",
        "    return ' '.join([reverse_word_index.get(i, '?') for i in text])\n",
        "\n",
        "print(decode_review(padded[3]))\n",
        "print(training_sentences[3])"
      ],
      "execution_count": null,
      "outputs": [
        {
          "output_type": "stream",
          "name": "stdout",
          "text": [
            "? ? ? ? ? ? ? ? ? ? ? ? ? ? ? ? ? ? ? ? ? ? ? ? ? ? ? ? ? ? ? this is the kind of film for a snowy sunday afternoon when the rest of the world can go ahead with its own business as you <OOV> into a big arm chair and <OOV> for a couple of hours wonderful performances from cher and nicolas cage as always gently row the plot along there are no <OOV> to cross no dangerous waters just a warm and witty <OOV> through new york life at its best a family film in every sense and one that deserves the praise it received\n",
            "This is the kind of film for a snowy Sunday afternoon when the rest of the world can go ahead with its own business as you descend into a big arm-chair and mellow for a couple of hours. Wonderful performances from Cher and Nicolas Cage (as always) gently row the plot along. There are no rapids to cross, no dangerous waters, just a warm and witty paddle through New York life at its best. A family film in every sense and one that deserves the praise it received.\n"
          ]
        }
      ]
    },
    {
      "cell_type": "code",
      "metadata": {
        "id": "MJDaiySz4USe",
        "colab": {
          "base_uri": "https://localhost:8080/"
        },
        "outputId": "a0afc0da-59cc-486a-e89d-c5d82efe91ef"
      },
      "source": [
        "# Build the model\n",
        "model = tf.keras.Sequential([\n",
        "    tf.keras.layers.Embedding(vocab_size, embedding_dim, input_length=max_length),\n",
        "    tf.keras.layers.Flatten(),\n",
        "    tf.keras.layers.Dense(6, activation='relu'),\n",
        "    tf.keras.layers.Dense(1, activation='sigmoid')\n",
        "])\n",
        "model.compile(loss='binary_crossentropy',optimizer='adam',metrics=['accuracy'])\n",
        "model.summary()"
      ],
      "execution_count": null,
      "outputs": [
        {
          "output_type": "stream",
          "name": "stdout",
          "text": [
            "Model: \"sequential\"\n",
            "_________________________________________________________________\n",
            "Layer (type)                 Output Shape              Param #   \n",
            "=================================================================\n",
            "embedding (Embedding)        (None, 120, 16)           160000    \n",
            "_________________________________________________________________\n",
            "flatten (Flatten)            (None, 1920)              0         \n",
            "_________________________________________________________________\n",
            "dense (Dense)                (None, 6)                 11526     \n",
            "_________________________________________________________________\n",
            "dense_1 (Dense)              (None, 1)                 7         \n",
            "=================================================================\n",
            "Total params: 171,533\n",
            "Trainable params: 171,533\n",
            "Non-trainable params: 0\n",
            "_________________________________________________________________\n"
          ]
        }
      ]
    },
    {
      "cell_type": "code",
      "metadata": {
        "id": "w51ELJBA4Y3I",
        "colab": {
          "base_uri": "https://localhost:8080/"
        },
        "outputId": "39723400-712c-4d1e-8f27-4f6400fadbc2"
      },
      "source": [
        "# Train the model\n",
        "num_epochs = 10\n",
        "history = model.fit(padded, training_labels_final, epochs=num_epochs, validation_data=(testing_padded, testing_labels_final))"
      ],
      "execution_count": null,
      "outputs": [
        {
          "output_type": "stream",
          "name": "stdout",
          "text": [
            "Epoch 1/10\n",
            "782/782 [==============================] - 10s 8ms/step - loss: 0.4908 - accuracy: 0.7448 - val_loss: 0.3447 - val_accuracy: 0.8498\n",
            "Epoch 2/10\n",
            "782/782 [==============================] - 7s 9ms/step - loss: 0.2305 - accuracy: 0.9132 - val_loss: 0.3832 - val_accuracy: 0.8350\n",
            "Epoch 3/10\n",
            "782/782 [==============================] - 6s 8ms/step - loss: 0.0803 - accuracy: 0.9803 - val_loss: 0.4588 - val_accuracy: 0.8286\n",
            "Epoch 4/10\n",
            "782/782 [==============================] - 5s 7ms/step - loss: 0.0188 - accuracy: 0.9980 - val_loss: 0.5389 - val_accuracy: 0.8290\n",
            "Epoch 5/10\n",
            "782/782 [==============================] - 5s 7ms/step - loss: 0.0047 - accuracy: 0.9997 - val_loss: 0.5961 - val_accuracy: 0.8288\n",
            "Epoch 6/10\n",
            "782/782 [==============================] - 5s 7ms/step - loss: 0.0017 - accuracy: 1.0000 - val_loss: 0.6431 - val_accuracy: 0.8317\n",
            "Epoch 7/10\n",
            "782/782 [==============================] - 5s 7ms/step - loss: 7.4464e-04 - accuracy: 1.0000 - val_loss: 0.6836 - val_accuracy: 0.8319\n",
            "Epoch 8/10\n",
            "782/782 [==============================] - 7s 8ms/step - loss: 4.1762e-04 - accuracy: 1.0000 - val_loss: 0.7244 - val_accuracy: 0.8318\n",
            "Epoch 9/10\n",
            "782/782 [==============================] - 5s 7ms/step - loss: 2.4383e-04 - accuracy: 1.0000 - val_loss: 0.7611 - val_accuracy: 0.8321\n",
            "Epoch 10/10\n",
            "782/782 [==============================] - 6s 7ms/step - loss: 1.4712e-04 - accuracy: 1.0000 - val_loss: 0.7956 - val_accuracy: 0.8316\n"
          ]
        }
      ]
    },
    {
      "cell_type": "code",
      "metadata": {
        "id": "ZPEnN57wCXWx",
        "colab": {
          "base_uri": "https://localhost:8080/",
          "height": 541
        },
        "outputId": "c8404edf-2553-4ba6-c917-4f4a532d21ca"
      },
      "source": [
        "def plot_graphs(history, string):\n",
        "  plt.plot(history.history[string])\n",
        "  plt.plot(history.history['val_'+string])\n",
        "  plt.xlabel(\"Epochs\")\n",
        "  plt.ylabel(string)\n",
        "  plt.legend([string, 'val_'+string])\n",
        "  plt.show()\n",
        "\n",
        "plot_graphs(history, 'accuracy')\n",
        "plot_graphs(history, 'loss')"
      ],
      "execution_count": null,
      "outputs": [
        {
          "output_type": "display_data",
          "data": {
            "image/png": "[encoded data removed]",
            "text/plain": [
              "<Figure size 432x288 with 1 Axes>"
            ]
          },
          "metadata": {
            "needs_background": "light"
          }
        },
        {
          "output_type": "display_data",
          "data": {
            "image/png": "[encoded data removed]",
            "text/plain": [
              "<Figure size 432x288 with 1 Axes>"
            ]
          },
          "metadata": {
            "needs_background": "light"
          }
        }
      ]
    },
    {
      "cell_type": "markdown",
      "metadata": {
        "id": "avjTKxQu9uHw"
      },
      "source": [
        "# Model Definition with LSTM"
      ]
    },
    {
      "cell_type": "code",
      "metadata": {
        "id": "fNvo88BQ9bhb",
        "colab": {
          "base_uri": "https://localhost:8080/"
        },
        "outputId": "2402a705-e31b-473a-b10b-0aab5c32879d"
      },
      "source": [
        "# LSTM Model\n",
        "lstm_model = tf.keras.Sequential([\n",
        "    tf.keras.layers.Embedding(vocab_size, embedding_dim, input_length=max_length),\n",
        "    tf.keras.layers.Bidirectional(tf.keras.layers.LSTM(64, return_sequences=True)),\n",
        "    tf.keras.layers.Bidirectional(tf.keras.layers.LSTM(32)),\n",
        "    tf.keras.layers.Dense(6, activation='relu'),\n",
        "    tf.keras.layers.Dense(1, activation='sigmoid')\n",
        "])\n",
        "\n",
        "lstm_model.compile(loss='binary_crossentropy',optimizer='adam',metrics=['accuracy'])\n",
        "\n",
        "lstm_model.summary()"
      ],
      "execution_count": null,
      "outputs": [
        {
          "output_type": "stream",
          "name": "stdout",
          "text": [
            "Model: \"sequential_1\"\n",
            "_________________________________________________________________\n",
            "Layer (type)                 Output Shape              Param #   \n",
            "=================================================================\n",
            "embedding_1 (Embedding)      (None, 120, 16)           160000    \n",
            "_________________________________________________________________\n",
            "bidirectional (Bidirectional (None, 120, 128)          41472     \n",
            "_________________________________________________________________\n",
            "bidirectional_1 (Bidirection (None, 64)                41216     \n",
            "_________________________________________________________________\n",
            "dense_2 (Dense)              (None, 6)                 390       \n",
            "_________________________________________________________________\n",
            "dense_3 (Dense)              (None, 1)                 7         \n",
            "=================================================================\n",
            "Total params: 243,085\n",
            "Trainable params: 243,085\n",
            "Non-trainable params: 0\n",
            "_________________________________________________________________\n"
          ]
        }
      ]
    },
    {
      "cell_type": "code",
      "metadata": {
        "id": "ee0Xk0_a9bzD",
        "colab": {
          "base_uri": "https://localhost:8080/"
        },
        "outputId": "93294efd-4aec-4623-e0cd-b13e6376f335"
      },
      "source": [
        "# Train the model\n",
        "num_epochs = 10\n",
        "lstm_history = lstm_model.fit(padded, training_labels_final, epochs=num_epochs, validation_data=(testing_padded, testing_labels_final))"
      ],
      "execution_count": null,
      "outputs": [
        {
          "output_type": "stream",
          "name": "stdout",
          "text": [
            "Epoch 1/10\n",
            "782/782 [==============================] - 126s 150ms/step - loss: 0.6271 - accuracy: 0.6425 - val_loss: 0.5722 - val_accuracy: 0.6709\n",
            "Epoch 2/10\n",
            "782/782 [==============================] - 116s 148ms/step - loss: 0.5697 - accuracy: 0.6999 - val_loss: 0.5626 - val_accuracy: 0.7229\n",
            "Epoch 3/10\n",
            "782/782 [==============================] - 116s 149ms/step - loss: 0.4201 - accuracy: 0.8176 - val_loss: 0.3735 - val_accuracy: 0.8352\n",
            "Epoch 4/10\n",
            "782/782 [==============================] - 116s 148ms/step - loss: 0.3059 - accuracy: 0.8768 - val_loss: 0.3895 - val_accuracy: 0.8385\n",
            "Epoch 5/10\n",
            "782/782 [==============================] - 116s 148ms/step - loss: 0.2521 - accuracy: 0.9040 - val_loss: 0.3767 - val_accuracy: 0.8412\n",
            "Epoch 6/10\n",
            "782/782 [==============================] - 116s 148ms/step - loss: 0.2121 - accuracy: 0.9234 - val_loss: 0.4097 - val_accuracy: 0.8348\n",
            "Epoch 7/10\n",
            "782/782 [==============================] - 116s 148ms/step - loss: 0.1765 - accuracy: 0.9372 - val_loss: 0.5041 - val_accuracy: 0.8227\n",
            "Epoch 8/10\n",
            "782/782 [==============================] - 116s 148ms/step - loss: 0.1395 - accuracy: 0.9545 - val_loss: 0.4868 - val_accuracy: 0.8332\n",
            "Epoch 9/10\n",
            "782/782 [==============================] - 116s 149ms/step - loss: 0.1146 - accuracy: 0.9639 - val_loss: 0.4898 - val_accuracy: 0.8260\n",
            "Epoch 10/10\n",
            "782/782 [==============================] - 117s 150ms/step - loss: 0.0930 - accuracy: 0.9721 - val_loss: 0.6148 - val_accuracy: 0.8214\n"
          ]
        }
      ]
    },
    {
      "cell_type": "code",
      "metadata": {
        "id": "R7QDM2NuG7Y3",
        "colab": {
          "base_uri": "https://localhost:8080/",
          "height": 541
        },
        "outputId": "845125a5-659e-4513-f09a-1eff6f8071c9"
      },
      "source": [
        "plot_graphs(lstm_history, 'accuracy')\n",
        "plot_graphs(lstm_history, 'loss')"
      ],
      "execution_count": null,
      "outputs": [
        {
          "output_type": "display_data",
          "data": {
            "image/png": "[encoded data removed]",
            "text/plain": [
              "<Figure size 432x288 with 1 Axes>"
            ]
          },
          "metadata": {
            "needs_background": "light"
          }
        },
        {
          "output_type": "display_data",
          "data": {
            "image/png": "[encoded data removed]",
            "text/plain": [
              "<Figure size 432x288 with 1 Axes>"
            ]
          },
          "metadata": {
            "needs_background": "light"
          }
        }
      ]
    },
    {
      "cell_type": "markdown",
      "metadata": {
        "id": "NO3mIc2j_bRp"
      },
      "source": [
        "# Model Definition with GRU"
      ]
    },
    {
      "cell_type": "code",
      "metadata": {
        "id": "S_u2XglV9b8Y",
        "colab": {
          "base_uri": "https://localhost:8080/"
        },
        "outputId": "559a8761-4e6c-4754-ed2a-d4bb25a83804"
      },
      "source": [
        "# GRU Model\n",
        "gru_model = tf.keras.Sequential([\n",
        "    tf.keras.layers.Embedding(vocab_size, embedding_dim, input_length=max_length),\n",
        "    tf.keras.layers.Bidirectional(tf.keras.layers.GRU(32)),\n",
        "    tf.keras.layers.Dense(6, activation='relu'),\n",
        "    tf.keras.layers.Dense(1, activation='sigmoid')\n",
        "])\n",
        "\n",
        "gru_model.compile(loss='binary_crossentropy',optimizer='adam',metrics=['accuracy'])\n",
        "\n",
        "gru_model.summary()"
      ],
      "execution_count": null,
      "outputs": [
        {
          "output_type": "stream",
          "name": "stdout",
          "text": [
            "Model: \"sequential_2\"\n",
            "_________________________________________________________________\n",
            "Layer (type)                 Output Shape              Param #   \n",
            "=================================================================\n",
            "embedding_2 (Embedding)      (None, 120, 16)           160000    \n",
            "_________________________________________________________________\n",
            "bidirectional_2 (Bidirection (None, 64)                9600      \n",
            "_________________________________________________________________\n",
            "dense_4 (Dense)              (None, 6)                 390       \n",
            "_________________________________________________________________\n",
            "dense_5 (Dense)              (None, 1)                 7         \n",
            "=================================================================\n",
            "Total params: 169,997\n",
            "Trainable params: 169,997\n",
            "Non-trainable params: 0\n",
            "_________________________________________________________________\n"
          ]
        }
      ]
    },
    {
      "cell_type": "code",
      "metadata": {
        "id": "XjOMiSn79cDI",
        "colab": {
          "base_uri": "https://localhost:8080/"
        },
        "outputId": "2de0722b-eae8-40cb-9142-b2dc391989e9"
      },
      "source": [
        "# Train the model\n",
        "num_epochs = 10\n",
        "gru_history = gru_model.fit(padded, training_labels_final, epochs=num_epochs, validation_data=(testing_padded, testing_labels_final))"
      ],
      "execution_count": null,
      "outputs": [
        {
          "output_type": "stream",
          "name": "stdout",
          "text": [
            "Epoch 1/10\n",
            "782/782 [==============================] - 50s 60ms/step - loss: 0.5025 - accuracy: 0.7290 - val_loss: 0.3549 - val_accuracy: 0.8460\n",
            "Epoch 2/10\n",
            "782/782 [==============================] - 46s 58ms/step - loss: 0.2942 - accuracy: 0.8796 - val_loss: 0.3772 - val_accuracy: 0.8324\n",
            "Epoch 3/10\n",
            "782/782 [==============================] - 45s 58ms/step - loss: 0.2265 - accuracy: 0.9117 - val_loss: 0.3951 - val_accuracy: 0.8397\n",
            "Epoch 4/10\n",
            "782/782 [==============================] - 46s 58ms/step - loss: 0.1696 - accuracy: 0.9377 - val_loss: 0.4441 - val_accuracy: 0.8305\n",
            "Epoch 5/10\n",
            "782/782 [==============================] - 46s 58ms/step - loss: 0.1194 - accuracy: 0.9580 - val_loss: 0.5287 - val_accuracy: 0.8234\n",
            "Epoch 6/10\n",
            "782/782 [==============================] - 46s 58ms/step - loss: 0.0844 - accuracy: 0.9704 - val_loss: 0.6277 - val_accuracy: 0.8184\n",
            "Epoch 7/10\n",
            "782/782 [==============================] - 45s 58ms/step - loss: 0.0535 - accuracy: 0.9821 - val_loss: 0.7119 - val_accuracy: 0.8152\n",
            "Epoch 8/10\n",
            "782/782 [==============================] - 45s 58ms/step - loss: 0.0364 - accuracy: 0.9881 - val_loss: 0.8537 - val_accuracy: 0.8148\n",
            "Epoch 9/10\n",
            "782/782 [==============================] - 46s 58ms/step - loss: 0.0269 - accuracy: 0.9904 - val_loss: 0.9316 - val_accuracy: 0.8129\n",
            "Epoch 10/10\n",
            "782/782 [==============================] - 46s 58ms/step - loss: 0.0223 - accuracy: 0.9923 - val_loss: 1.0099 - val_accuracy: 0.8200\n"
          ]
        }
      ]
    },
    {
      "cell_type": "code",
      "metadata": {
        "id": "wSpj-geNHA2Y",
        "colab": {
          "base_uri": "https://localhost:8080/",
          "height": 541
        },
        "outputId": "1df42e69-77f4-47a4-8e8a-3e8fee42871f"
      },
      "source": [
        "plot_graphs(gru_history, 'accuracy')\n",
        "plot_graphs(gru_history, 'loss')"
      ],
      "execution_count": null,
      "outputs": [
        {
          "output_type": "display_data",
          "data": {
            "image/png": "[encoded data removed]",
            "text/plain": [
              "<Figure size 432x288 with 1 Axes>"
            ]
          },
          "metadata": {
            "needs_background": "light"
          }
        },
        {
          "output_type": "display_data",
          "data": {
            "image/png": "[encoded data removed]",
            "text/plain": [
              "<Figure size 432x288 with 1 Axes>"
            ]
          },
          "metadata": {
            "needs_background": "light"
          }
        }
      ]
    },
    {
      "cell_type": "markdown",
      "metadata": {
        "id": "BSjDH87a_xEU"
      },
      "source": [
        "# Model Definition with Conv1D"
      ]
    },
    {
      "cell_type": "code",
      "metadata": {
        "id": "jiYHNb9c9cIJ",
        "colab": {
          "base_uri": "https://localhost:8080/"
        },
        "outputId": "7d9b5bdd-a988-430b-dd8f-c2ac37859932"
      },
      "source": [
        "# Conv1D Model\n",
        "conv1D_model = tf.keras.Sequential([\n",
        "    tf.keras.layers.Embedding(vocab_size, embedding_dim, input_length=max_length),\n",
        "    tf.keras.layers.Conv1D(128, 5, activation='relu'),\n",
        "    tf.keras.layers.GlobalAveragePooling1D(),\n",
        "    tf.keras.layers.Dense(6, activation='relu'),\n",
        "    tf.keras.layers.Dense(1, activation='sigmoid')\n",
        "])\n",
        "\n",
        "conv1D_model.compile(loss='binary_crossentropy',optimizer='adam',metrics=['accuracy'])\n",
        "\n",
        "conv1D_model.summary()"
      ],
      "execution_count": null,
      "outputs": [
        {
          "output_type": "stream",
          "name": "stdout",
          "text": [
            "Model: \"sequential_3\"\n",
            "_________________________________________________________________\n",
            "Layer (type)                 Output Shape              Param #   \n",
            "=================================================================\n",
            "embedding_3 (Embedding)      (None, 120, 16)           160000    \n",
            "_________________________________________________________________\n",
            "conv1d (Conv1D)              (None, 116, 128)          10368     \n",
            "_________________________________________________________________\n",
            "global_average_pooling1d (Gl (None, 128)               0         \n",
            "_________________________________________________________________\n",
            "dense_6 (Dense)              (None, 6)                 774       \n",
            "_________________________________________________________________\n",
            "dense_7 (Dense)              (None, 1)                 7         \n",
            "=================================================================\n",
            "Total params: 171,149\n",
            "Trainable params: 171,149\n",
            "Non-trainable params: 0\n",
            "_________________________________________________________________\n"
          ]
        }
      ]
    },
    {
      "cell_type": "code",
      "metadata": {
        "id": "P0UOjria9cM6",
        "colab": {
          "base_uri": "https://localhost:8080/"
        },
        "outputId": "60d2aff3-e40a-4782-eb16-1a37c83d0b22"
      },
      "source": [
        "# Train the model\n",
        "num_epochs = 10\n",
        "conv1D_history = conv1D_model.fit(padded, training_labels_final, epochs=num_epochs, validation_data=(testing_padded, testing_labels_final))"
      ],
      "execution_count": null,
      "outputs": [
        {
          "output_type": "stream",
          "name": "stdout",
          "text": [
            "Epoch 1/10\n",
            "782/782 [==============================] - 34s 10ms/step - loss: 0.4407 - accuracy: 0.7950 - val_loss: 0.3459 - val_accuracy: 0.8495\n",
            "Epoch 2/10\n",
            "782/782 [==============================] - 7s 9ms/step - loss: 0.2791 - accuracy: 0.8860 - val_loss: 0.3550 - val_accuracy: 0.8460\n",
            "Epoch 3/10\n",
            "782/782 [==============================] - 7s 9ms/step - loss: 0.2270 - accuracy: 0.9097 - val_loss: 0.4101 - val_accuracy: 0.8266\n",
            "Epoch 4/10\n",
            "782/782 [==============================] - 7s 8ms/step - loss: 0.1858 - accuracy: 0.9315 - val_loss: 0.4249 - val_accuracy: 0.8323\n",
            "Epoch 5/10\n",
            "782/782 [==============================] - 8s 10ms/step - loss: 0.1567 - accuracy: 0.9432 - val_loss: 0.4657 - val_accuracy: 0.8262\n",
            "Epoch 6/10\n",
            "782/782 [==============================] - 7s 10ms/step - loss: 0.1253 - accuracy: 0.9570 - val_loss: 0.5195 - val_accuracy: 0.8204\n",
            "Epoch 7/10\n",
            "782/782 [==============================] - 7s 9ms/step - loss: 0.1007 - accuracy: 0.9678 - val_loss: 0.5787 - val_accuracy: 0.8164\n",
            "Epoch 8/10\n",
            "782/782 [==============================] - 7s 9ms/step - loss: 0.0807 - accuracy: 0.9758 - val_loss: 0.6756 - val_accuracy: 0.8142\n",
            "Epoch 9/10\n",
            "782/782 [==============================] - 6s 8ms/step - loss: 0.0640 - accuracy: 0.9814 - val_loss: 0.7669 - val_accuracy: 0.8096\n",
            "Epoch 10/10\n",
            "782/782 [==============================] - 7s 9ms/step - loss: 0.0468 - accuracy: 0.9879 - val_loss: 0.9177 - val_accuracy: 0.8024\n"
          ]
        }
      ]
    },
    {
      "cell_type": "code",
      "metadata": {
        "id": "-w9VMCBkHE90",
        "colab": {
          "base_uri": "https://localhost:8080/",
          "height": 541
        },
        "outputId": "1c08c534-80d8-47d0-862e-2a2937b211b4"
      },
      "source": [
        "plot_graphs(conv1D_history, 'accuracy')\n",
        "plot_graphs(conv1D_history, 'loss')"
      ],
      "execution_count": null,
      "outputs": [
        {
          "output_type": "display_data",
          "data": {
            "image/png": "[encoded data removed]",
            "text/plain": [
              "<Figure size 432x288 with 1 Axes>"
            ]
          },
          "metadata": {
            "needs_background": "light"
          }
        },
        {
          "output_type": "display_data",
          "data": {
            "image/png": "[encoded data removed]",
            "text/plain": [
              "<Figure size 432x288 with 1 Axes>"
            ]
          },
          "metadata": {
            "needs_background": "light"
          }
        }
      ]
    },
    {
      "cell_type": "code",
      "metadata": {
        "id": "hbWZpImK4gXQ",
        "colab": {
          "base_uri": "https://localhost:8080/"
        },
        "outputId": "2a3fca9f-1c76-435e-ff0d-455fc243d581"
      },
      "source": [
        "e = model.layers[0]\n",
        "weights = e.get_weights()[0]\n",
        "print(weights.shape) # shape: (vocab_size, embedding_dim)"
      ],
      "execution_count": null,
      "outputs": [
        {
          "output_type": "stream",
          "name": "stdout",
          "text": [
            "(10000, 16)\n"
          ]
        }
      ]
    },
    {
      "cell_type": "code",
      "metadata": {
        "id": "nfAGLULM41eh"
      },
      "source": [
        "# Generate the vector and metadata file for Visualisation\n",
        "import io\n",
        "\n",
        "out_v = io.open('vecs.tsv', 'w', encoding='utf-8')\n",
        "out_m = io.open('meta.tsv', 'w', encoding='utf-8')\n",
        "for word_num in range(1, vocab_size):\n",
        "  word = reverse_word_index[word_num]\n",
        "  embeddings = weights[word_num]\n",
        "  out_m.write(word + \"\\n\")\n",
        "  out_v.write('\\t'.join([str(x) for x in embeddings]) + \"\\n\")\n",
        "out_v.close()\n",
        "out_m.close()"
      ],
      "execution_count": null,
      "outputs": []
    },
    {
      "cell_type": "code",
      "metadata": {
        "id": "xuiNiYts49_a",
        "colab": {
          "base_uri": "https://localhost:8080/",
          "height": 17
        },
        "outputId": "1927eae0-566e-443f-b879-ff0cb604409c"
      },
      "source": [
        "# Download the vector and metadata file\n",
        "try:\n",
        "  from google.colab import files\n",
        "except ImportError:\n",
        "  pass\n",
        "else:\n",
        "  files.download('vecs.tsv')\n",
        "  files.download('meta.tsv')\n",
        "\n",
        "# Go to https://projector.tensorflow.org/ and load both the files for visualisation."
      ],
      "execution_count": null,
      "outputs": [
        {
          "output_type": "display_data",
          "data": {
            "application/javascript": [
              "\n",
              "    async function download(id, filename, size) {\n",
              "      if (!google.colab.kernel.accessAllowed) {\n",
              "        return;\n",
              "      }\n",
              "      const div = document.createElement('div');\n",
              "      const label = document.createElement('label');\n",
              "      label.textContent = `Downloading \"${filename}\": `;\n",
              "      div.appendChild(label);\n",
              "      const progress = document.createElement('progress');\n",
              "      progress.max = size;\n",
              "      div.appendChild(progress);\n",
              "      document.body.appendChild(div);\n",
              "\n",
              "      const buffers = [];\n",
              "      let downloaded = 0;\n",
              "\n",
              "      const channel = await google.colab.kernel.comms.open(id);\n",
              "      // Send a message to notify the kernel that we're ready.\n",
              "      channel.send({})\n",
              "\n",
              "      for await (const message of channel.messages) {\n",
              "        // Send a message to notify the kernel that we're ready.\n",
              "        channel.send({})\n",
              "        if (message.buffers) {\n",
              "          for (const buffer of message.buffers) {\n",
              "            buffers.push(buffer);\n",
              "            downloaded += buffer.byteLength;\n",
              "            progress.value = downloaded;\n",
              "          }\n",
              "        }\n",
              "      }\n",
              "      const blob = new Blob(buffers, {type: 'application/binary'});\n",
              "      const a = document.createElement('a');\n",
              "      a.href = window.URL.createObjectURL(blob);\n",
              "      a.download = filename;\n",
              "      div.appendChild(a);\n",
              "      a.click();\n",
              "      div.remove();\n",
              "    }\n",
              "  "
            ],
            "text/plain": [
              "<IPython.core.display.Javascript object>"
            ]
          },
          "metadata": {}
        },
        {
          "output_type": "display_data",
          "data": {
            "application/javascript": [
              "download(\"download_96b086a0-fc1d-472e-8396-b622548ef3ff\", \"vecs.tsv\", 1914751)"
            ],
            "text/plain": [
              "<IPython.core.display.Javascript object>"
            ]
          },
          "metadata": {}
        },
        {
          "output_type": "display_data",
          "data": {
            "application/javascript": [
              "\n",
              "    async function download(id, filename, size) {\n",
              "      if (!google.colab.kernel.accessAllowed) {\n",
              "        return;\n",
              "      }\n",
              "      const div = document.createElement('div');\n",
              "      const label = document.createElement('label');\n",
              "      label.textContent = `Downloading \"${filename}\": `;\n",
              "      div.appendChild(label);\n",
              "      const progress = document.createElement('progress');\n",
              "      progress.max = size;\n",
              "      div.appendChild(progress);\n",
              "      document.body.appendChild(div);\n",
              "\n",
              "      const buffers = [];\n",
              "      let downloaded = 0;\n",
              "\n",
              "      const channel = await google.colab.kernel.comms.open(id);\n",
              "      // Send a message to notify the kernel that we're ready.\n",
              "      channel.send({})\n",
              "\n",
              "      for await (const message of channel.messages) {\n",
              "        // Send a message to notify the kernel that we're ready.\n",
              "        channel.send({})\n",
              "        if (message.buffers) {\n",
              "          for (const buffer of message.buffers) {\n",
              "            buffers.push(buffer);\n",
              "            downloaded += buffer.byteLength;\n",
              "            progress.value = downloaded;\n",
              "          }\n",
              "        }\n",
              "      }\n",
              "      const blob = new Blob(buffers, {type: 'application/binary'});\n",
              "      const a = document.createElement('a');\n",
              "      a.href = window.URL.createObjectURL(blob);\n",
              "      a.download = filename;\n",
              "      div.appendChild(a);\n",
              "      a.click();\n",
              "      div.remove();\n",
              "    }\n",
              "  "
            ],
            "text/plain": [
              "<IPython.core.display.Javascript object>"
            ]
          },
          "metadata": {}
        },
        {
          "output_type": "display_data",
          "data": {
            "application/javascript": [
              "download(\"download_83eb033e-b09f-4568-bce6-7bacd20cee5f\", \"meta.tsv\", 76186)"
            ],
            "text/plain": [
              "<IPython.core.display.Javascript object>"
            ]
          },
          "metadata": {}
        }
      ]
    },
    {
      "cell_type": "code",
      "metadata": {
        "id": "F0awk8e_5ApF",
        "colab": {
          "base_uri": "https://localhost:8080/"
        },
        "outputId": "7d936187-2693-4e3d-be1d-16cbfcff2993"
      },
      "source": [
        "sentence = \"I really think this is amazing. honest.\"\n",
        "sequence = tokenizer.texts_to_sequences([sentence])\n",
        "print(sequence)\n",
        "padded = pad_sequences(sequence, maxlen=max_length, padding='post', truncating=trunc_type)\n",
        "print(model.predict(padded))"
      ],
      "execution_count": null,
      "outputs": [
        {
          "output_type": "stream",
          "name": "stdout",
          "text": [
            "[[11, 64, 102, 12, 7, 478, 1200]]\n",
            "[[0.97056884]]\n"
          ]
        }
      ]
    }
  ]
}